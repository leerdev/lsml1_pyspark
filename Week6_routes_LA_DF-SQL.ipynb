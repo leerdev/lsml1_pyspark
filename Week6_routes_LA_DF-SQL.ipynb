{
 "cells": [
  {
   "cell_type": "code",
   "execution_count": 1,
   "metadata": {},
   "outputs": [],
   "source": [
    "import os\n",
    "import sys\n",
    "os.environ['PYSPARK_PYTHON'] = sys.executable\n",
    "os.environ['PYSPARK_DRIVER_PYTHON'] = sys.executable\n",
    "import pyspark\n",
    "from pyspark.sql import SparkSession"
   ]
  },
  {
   "cell_type": "code",
   "execution_count": 2,
   "metadata": {},
   "outputs": [],
   "source": [
    "from pyspark.sql.functions import col, min, collect_list, count, desc, udf, lower\n",
    "import numpy as np"
   ]
  },
  {
   "cell_type": "code",
   "execution_count": 3,
   "metadata": {},
   "outputs": [],
   "source": [
    "spark = SparkSession \\\n",
    "    .builder \\\n",
    "    .appName(\"Python Spark SQL basic example\") \\\n",
    "    .config(\"spark.some.config.option\", \"some-value\") \\\n",
    "    .getOrCreate()"
   ]
  },
  {
   "cell_type": "code",
   "execution_count": 4,
   "metadata": {},
   "outputs": [],
   "source": [
    "# local datasource\n",
    "clicks = spark.read.options(delimiter='\\t', header='True', inferSchema='True').csv('clickstream.csv')"
   ]
  },
  {
   "cell_type": "code",
   "execution_count": 5,
   "metadata": {},
   "outputs": [
    {
     "name": "stdout",
     "output_type": "stream",
     "text": [
      "+-------+----------+------------+----------+----------+\n",
      "|user_id|session_id|  event_type|event_page| timestamp|\n",
      "+-------+----------+------------+----------+----------+\n",
      "|    562|       507|        page|      main|1620494781|\n",
      "|    562|       507|       event|      main|1620494788|\n",
      "|    562|       507|       event|      main|1620494798|\n",
      "|    562|       507|       event|      main|1620494801|\n",
      "|    562|       507|wNaxLlerrorU|      main|1620494808|\n",
      "+-------+----------+------------+----------+----------+\n",
      "only showing top 5 rows\n",
      "\n"
     ]
    }
   ],
   "source": [
    "clicks.show(5)"
   ]
  },
  {
   "cell_type": "code",
   "execution_count": 6,
   "metadata": {},
   "outputs": [
    {
     "data": {
      "text/plain": [
       "[('user_id', 'int'),\n",
       " ('session_id', 'int'),\n",
       " ('event_type', 'string'),\n",
       " ('event_page', 'string'),\n",
       " ('timestamp', 'int')]"
      ]
     },
     "execution_count": 6,
     "metadata": {},
     "output_type": "execute_result"
    }
   ],
   "source": [
    "clicks.dtypes"
   ]
  },
  {
   "cell_type": "code",
   "execution_count": 7,
   "metadata": {},
   "outputs": [
    {
     "data": {
      "text/plain": [
       "5000000"
      ]
     },
     "execution_count": 7,
     "metadata": {},
     "output_type": "execute_result"
    }
   ],
   "source": [
    "clicks.count()"
   ]
  },
  {
   "cell_type": "code",
   "execution_count": 8,
   "metadata": {},
   "outputs": [],
   "source": [
    "err_mt = clicks.where(\n",
    "    lower(col(\"event_type\")).like(\"%error%\")).groupby([\"user_id\", \"session_id\"]).agg(\n",
    "    min(clicks.timestamp).alias(\"err_mt\")).withColumnRenamed('user_id','emt_user_id').withColumnRenamed('session_id','emt_session_id')"
   ]
  },
  {
   "cell_type": "code",
   "execution_count": 9,
   "metadata": {},
   "outputs": [
    {
     "name": "stdout",
     "output_type": "stream",
     "text": [
      "+-----------+--------------+----------+\n",
      "|emt_user_id|emt_session_id|    err_mt|\n",
      "+-----------+--------------+----------+\n",
      "|        600|           253|1620509147|\n",
      "|        800|           104|1620583603|\n",
      "|        237|           333|1620588494|\n",
      "|        326|           550|1620592998|\n",
      "|        491|           714|1620605795|\n",
      "+-----------+--------------+----------+\n",
      "only showing top 5 rows\n",
      "\n"
     ]
    }
   ],
   "source": [
    "err_mt.show(5)"
   ]
  },
  {
   "cell_type": "code",
   "execution_count": 10,
   "metadata": {},
   "outputs": [
    {
     "data": {
      "text/plain": [
       "73242"
      ]
     },
     "execution_count": 10,
     "metadata": {},
     "output_type": "execute_result"
    }
   ],
   "source": [
    "err_mt.count()"
   ]
  },
  {
   "cell_type": "code",
   "execution_count": 11,
   "metadata": {},
   "outputs": [],
   "source": [
    "paths = clicks.join(err_mt, [clicks.user_id == err_mt.emt_user_id, \n",
    "                                           clicks.session_id == err_mt.emt_session_id], 'left_outer').filter(\n",
    "                                           col('event_type') == 'page').orderBy(clicks.timestamp)\n",
    "\n",
    "paths = paths.na.fill(np.inf)\n",
    "paths = paths.where(paths.timestamp <= paths.err_mt)"
   ]
  },
  {
   "cell_type": "code",
   "execution_count": 12,
   "metadata": {},
   "outputs": [
    {
     "name": "stdout",
     "output_type": "stream",
     "text": [
      "+-------+----------+----------+----------+----------+-----------+--------------+----------+\n",
      "|user_id|session_id|event_type|event_page| timestamp|emt_user_id|emt_session_id|    err_mt|\n",
      "+-------+----------+----------+----------+----------+-----------+--------------+----------+\n",
      "|    562|       507|      page|      main|1620494781|        562|           507|1620494808|\n",
      "|    466|       849|      page|      main|1620494892| 2147483647|    2147483647|2147483647|\n",
      "|    466|       849|      page|   digital|1620494915| 2147483647|    2147483647|2147483647|\n",
      "|    466|       849|      page|      news|1620494923| 2147483647|    2147483647|2147483647|\n",
      "|    466|       849|      page|   archive|1620494939| 2147483647|    2147483647|2147483647|\n",
      "+-------+----------+----------+----------+----------+-----------+--------------+----------+\n",
      "only showing top 5 rows\n",
      "\n"
     ]
    }
   ],
   "source": [
    "paths.show(5)"
   ]
  },
  {
   "cell_type": "code",
   "execution_count": 13,
   "metadata": {},
   "outputs": [],
   "source": [
    "x = paths.groupby(\n",
    "    'user_id', 'session_id').agg(\n",
    "    collect_list('event_page').alias('route'))"
   ]
  },
  {
   "cell_type": "code",
   "execution_count": 14,
   "metadata": {},
   "outputs": [],
   "source": [
    "y = x.groupBy(\n",
    "    'route').agg(\n",
    "    count('user_id').alias('count')).orderBy(\n",
    "    desc('count')).withColumn('route', udf(lambda t: '-'.join(t))(col('route')))"
   ]
  },
  {
   "cell_type": "code",
   "execution_count": 15,
   "metadata": {},
   "outputs": [
    {
     "name": "stdout",
     "output_type": "stream",
     "text": [
      "+--------------------+-----+\n",
      "|               route|count|\n",
      "+--------------------+-----+\n",
      "|                main|39250|\n",
      "|        main-tariffs| 6535|\n",
      "|           main-news| 6278|\n",
      "|        main-archive| 5850|\n",
      "|         main-family| 4858|\n",
      "|        main-digital| 4219|\n",
      "|          main-bonus| 3494|\n",
      "|   main-tariffs-news| 1186|\n",
      "|   main-news-tariffs| 1132|\n",
      "|main-tariffs-archive| 1037|\n",
      "|   main-news-archive| 1000|\n",
      "|main-archive-tariffs|  996|\n",
      "|   main-archive-news|  995|\n",
      "| main-family-tariffs|  923|\n",
      "|    main-news-family|  920|\n",
      "| main-tariffs-family|  919|\n",
      "|    main-family-news|  879|\n",
      "| main-archive-family|  817|\n",
      "|   main-news-digital|  798|\n",
      "| main-family-archive|  774|\n",
      "|   main-tariffs-main|  760|\n",
      "|main-tariffs-digital|  751|\n",
      "|   main-digital-news|  748|\n",
      "|main-digital-tariffs|  724|\n",
      "|main-archive-digital|  720|\n",
      "|        main-spravka|  707|\n",
      "|      main-news-main|  686|\n",
      "|main-digital-archive|  682|\n",
      "|  main-tariffs-bonus|  667|\n",
      "|   main-archive-main|  617|\n",
      "+--------------------+-----+\n",
      "only showing top 30 rows\n",
      "\n"
     ]
    }
   ],
   "source": [
    "y.show(30)"
   ]
  },
  {
   "cell_type": "code",
   "execution_count": 16,
   "metadata": {},
   "outputs": [],
   "source": [
    "z = y.toPandas()"
   ]
  },
  {
   "cell_type": "code",
   "execution_count": 17,
   "metadata": {},
   "outputs": [
    {
     "data": {
      "text/html": [
       "<div>\n",
       "<style scoped>\n",
       "    .dataframe tbody tr th:only-of-type {\n",
       "        vertical-align: middle;\n",
       "    }\n",
       "\n",
       "    .dataframe tbody tr th {\n",
       "        vertical-align: top;\n",
       "    }\n",
       "\n",
       "    .dataframe thead th {\n",
       "        text-align: right;\n",
       "    }\n",
       "</style>\n",
       "<table border=\"1\" class=\"dataframe\">\n",
       "  <thead>\n",
       "    <tr style=\"text-align: right;\">\n",
       "      <th></th>\n",
       "      <th>route</th>\n",
       "      <th>count</th>\n",
       "    </tr>\n",
       "  </thead>\n",
       "  <tbody>\n",
       "    <tr>\n",
       "      <th>0</th>\n",
       "      <td>main</td>\n",
       "      <td>39250</td>\n",
       "    </tr>\n",
       "    <tr>\n",
       "      <th>1</th>\n",
       "      <td>main-tariffs</td>\n",
       "      <td>6532</td>\n",
       "    </tr>\n",
       "    <tr>\n",
       "      <th>2</th>\n",
       "      <td>main-news</td>\n",
       "      <td>6276</td>\n",
       "    </tr>\n",
       "    <tr>\n",
       "      <th>3</th>\n",
       "      <td>main-archive</td>\n",
       "      <td>5849</td>\n",
       "    </tr>\n",
       "    <tr>\n",
       "      <th>4</th>\n",
       "      <td>main-family</td>\n",
       "      <td>4859</td>\n",
       "    </tr>\n",
       "    <tr>\n",
       "      <th>5</th>\n",
       "      <td>main-digital</td>\n",
       "      <td>4220</td>\n",
       "    </tr>\n",
       "    <tr>\n",
       "      <th>6</th>\n",
       "      <td>main-bonus</td>\n",
       "      <td>3495</td>\n",
       "    </tr>\n",
       "    <tr>\n",
       "      <th>7</th>\n",
       "      <td>main-tariffs-news</td>\n",
       "      <td>1189</td>\n",
       "    </tr>\n",
       "    <tr>\n",
       "      <th>8</th>\n",
       "      <td>main-news-tariffs</td>\n",
       "      <td>1130</td>\n",
       "    </tr>\n",
       "    <tr>\n",
       "      <th>9</th>\n",
       "      <td>main-tariffs-archive</td>\n",
       "      <td>1037</td>\n",
       "    </tr>\n",
       "    <tr>\n",
       "      <th>10</th>\n",
       "      <td>main-news-archive</td>\n",
       "      <td>1001</td>\n",
       "    </tr>\n",
       "    <tr>\n",
       "      <th>11</th>\n",
       "      <td>main-archive-tariffs</td>\n",
       "      <td>997</td>\n",
       "    </tr>\n",
       "    <tr>\n",
       "      <th>12</th>\n",
       "      <td>main-archive-news</td>\n",
       "      <td>996</td>\n",
       "    </tr>\n",
       "    <tr>\n",
       "      <th>13</th>\n",
       "      <td>main-family-tariffs</td>\n",
       "      <td>922</td>\n",
       "    </tr>\n",
       "    <tr>\n",
       "      <th>14</th>\n",
       "      <td>main-news-family</td>\n",
       "      <td>920</td>\n",
       "    </tr>\n",
       "    <tr>\n",
       "      <th>15</th>\n",
       "      <td>main-tariffs-family</td>\n",
       "      <td>918</td>\n",
       "    </tr>\n",
       "    <tr>\n",
       "      <th>16</th>\n",
       "      <td>main-family-news</td>\n",
       "      <td>879</td>\n",
       "    </tr>\n",
       "    <tr>\n",
       "      <th>17</th>\n",
       "      <td>main-archive-family</td>\n",
       "      <td>817</td>\n",
       "    </tr>\n",
       "    <tr>\n",
       "      <th>18</th>\n",
       "      <td>main-news-digital</td>\n",
       "      <td>797</td>\n",
       "    </tr>\n",
       "    <tr>\n",
       "      <th>19</th>\n",
       "      <td>main-family-archive</td>\n",
       "      <td>775</td>\n",
       "    </tr>\n",
       "    <tr>\n",
       "      <th>20</th>\n",
       "      <td>main-tariffs-main</td>\n",
       "      <td>761</td>\n",
       "    </tr>\n",
       "    <tr>\n",
       "      <th>21</th>\n",
       "      <td>main-tariffs-digital</td>\n",
       "      <td>750</td>\n",
       "    </tr>\n",
       "    <tr>\n",
       "      <th>22</th>\n",
       "      <td>main-digital-news</td>\n",
       "      <td>749</td>\n",
       "    </tr>\n",
       "    <tr>\n",
       "      <th>23</th>\n",
       "      <td>main-digital-tariffs</td>\n",
       "      <td>724</td>\n",
       "    </tr>\n",
       "    <tr>\n",
       "      <th>24</th>\n",
       "      <td>main-archive-digital</td>\n",
       "      <td>720</td>\n",
       "    </tr>\n",
       "    <tr>\n",
       "      <th>25</th>\n",
       "      <td>main-spravka</td>\n",
       "      <td>708</td>\n",
       "    </tr>\n",
       "    <tr>\n",
       "      <th>26</th>\n",
       "      <td>main-news-main</td>\n",
       "      <td>685</td>\n",
       "    </tr>\n",
       "    <tr>\n",
       "      <th>27</th>\n",
       "      <td>main-digital-archive</td>\n",
       "      <td>683</td>\n",
       "    </tr>\n",
       "    <tr>\n",
       "      <th>28</th>\n",
       "      <td>main-tariffs-bonus</td>\n",
       "      <td>667</td>\n",
       "    </tr>\n",
       "    <tr>\n",
       "      <th>29</th>\n",
       "      <td>main-archive-main</td>\n",
       "      <td>617</td>\n",
       "    </tr>\n",
       "  </tbody>\n",
       "</table>\n",
       "</div>"
      ],
      "text/plain": [
       "                   route  count\n",
       "0                   main  39250\n",
       "1           main-tariffs   6532\n",
       "2              main-news   6276\n",
       "3           main-archive   5849\n",
       "4            main-family   4859\n",
       "5           main-digital   4220\n",
       "6             main-bonus   3495\n",
       "7      main-tariffs-news   1189\n",
       "8      main-news-tariffs   1130\n",
       "9   main-tariffs-archive   1037\n",
       "10     main-news-archive   1001\n",
       "11  main-archive-tariffs    997\n",
       "12     main-archive-news    996\n",
       "13   main-family-tariffs    922\n",
       "14      main-news-family    920\n",
       "15   main-tariffs-family    918\n",
       "16      main-family-news    879\n",
       "17   main-archive-family    817\n",
       "18     main-news-digital    797\n",
       "19   main-family-archive    775\n",
       "20     main-tariffs-main    761\n",
       "21  main-tariffs-digital    750\n",
       "22     main-digital-news    749\n",
       "23  main-digital-tariffs    724\n",
       "24  main-archive-digital    720\n",
       "25          main-spravka    708\n",
       "26        main-news-main    685\n",
       "27  main-digital-archive    683\n",
       "28    main-tariffs-bonus    667\n",
       "29     main-archive-main    617"
      ]
     },
     "execution_count": 17,
     "metadata": {},
     "output_type": "execute_result"
    }
   ],
   "source": [
    "z.head(30)"
   ]
  },
  {
   "cell_type": "code",
   "execution_count": null,
   "metadata": {},
   "outputs": [],
   "source": []
  }
 ],
 "metadata": {
  "kernelspec": {
   "display_name": "Python 3",
   "language": "python",
   "name": "python3"
  },
  "language_info": {
   "codemirror_mode": {
    "name": "ipython",
    "version": 3
   },
   "file_extension": ".py",
   "mimetype": "text/x-python",
   "name": "python",
   "nbconvert_exporter": "python",
   "pygments_lexer": "ipython3",
   "version": "3.8.5"
  }
 },
 "nbformat": 4,
 "nbformat_minor": 4
}
